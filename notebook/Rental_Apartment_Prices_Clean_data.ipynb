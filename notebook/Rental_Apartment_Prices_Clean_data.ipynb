{
 "cells": [
  {
   "cell_type": "markdown",
   "id": "29ac33ae-1fcb-42da-b5a5-554486313733",
   "metadata": {},
   "source": [
    "## Przygotowanie Danych (Data Preprocessing)"
   ]
  },
  {
   "cell_type": "code",
   "execution_count": 2,
   "id": "4889b06e-12f9-4c81-a561-e82bedd74f42",
   "metadata": {},
   "outputs": [],
   "source": [
    "import pandas as pd\n",
    "import numpy as np\n",
    "import re"
   ]
  },
  {
   "cell_type": "code",
   "execution_count": 3,
   "id": "a5333825-95ad-48c2-a147-af0f42de4dae",
   "metadata": {},
   "outputs": [],
   "source": [
    "krk = pd.read_csv(\"..\\data_raw\\olx_krakow_detailed_listings.csv\")\n",
    "waw = pd.read_csv(\"..\\data_raw\\olx_warszawa_detailed_listings.csv\")\n",
    "wro = pd.read_csv(\"..\\data_raw\\olx_wroclaw_detailed_listings.csv\")\n",
    "lcj = pd.read_csv(\"..\\data_raw\\olx_lodz_detailed_listings.csv\")\n",
    "poz = pd.read_csv(\"..\\data_raw\\olx_poznan_detailed_listings.csv\")\n",
    "gdn = pd.read_csv(\"..\\data_raw\\olx_gdansk_detailed_listings.csv\")\n",
    "szz = pd.read_csv(\"..\\data_raw\\olx_szczecin_detailed_listings.csv\")\n",
    "bzg = pd.read_csv(\"..\\data_raw\\olx_bydgoszcz_detailed_listings.csv\")\n",
    "ns = pd.read_csv(\"..\\data_raw\\olx_nowy-sacz_detailed_listings.csv\")"
   ]
  },
  {
   "cell_type": "code",
   "execution_count": 4,
   "id": "07c886ca-662c-4369-aa47-171346b57442",
   "metadata": {},
   "outputs": [],
   "source": [
    "# połacznie danych\n",
    "list_city = [krk, waw, wro, lcj, poz, gdn, szz, bzg, ns]\n",
    "\n",
    "connect_data= pd.DataFrame()\n",
    "\n",
    "for file in list_city:\n",
    "    connect_data = pd.concat([connect_data, file], ignore_index= True)"
   ]
  },
  {
   "cell_type": "code",
   "execution_count": 5,
   "id": "98b447da-1c94-42a9-a2cc-61ee4f837a16",
   "metadata": {},
   "outputs": [
    {
     "data": {
      "text/html": [
       "<div>\n",
       "<style scoped>\n",
       "    .dataframe tbody tr th:only-of-type {\n",
       "        vertical-align: middle;\n",
       "    }\n",
       "\n",
       "    .dataframe tbody tr th {\n",
       "        vertical-align: top;\n",
       "    }\n",
       "\n",
       "    .dataframe thead th {\n",
       "        text-align: right;\n",
       "    }\n",
       "</style>\n",
       "<table border=\"1\" class=\"dataframe\">\n",
       "  <thead>\n",
       "    <tr style=\"text-align: right;\">\n",
       "      <th></th>\n",
       "      <th>Title</th>\n",
       "      <th>Price</th>\n",
       "      <th>Area</th>\n",
       "      <th>Address</th>\n",
       "      <th>description</th>\n",
       "      <th>table</th>\n",
       "      <th>Link</th>\n",
       "    </tr>\n",
       "  </thead>\n",
       "  <tbody>\n",
       "    <tr>\n",
       "      <th>2238</th>\n",
       "      <td>Wynajmę mieszkanie ul. Kłobucka 6e z komórką i MP</td>\n",
       "      <td>4 500 zł</td>\n",
       "      <td>57 m²</td>\n",
       "      <td>Warszawa, Ursynów - 04 marca 2025</td>\n",
       "      <td>brak opisu otodom</td>\n",
       "      <td>brak opisu otodom</td>\n",
       "      <td>https://www.otodom.pl/pl/oferta/wynajme-mieszk...</td>\n",
       "    </tr>\n",
       "    <tr>\n",
       "      <th>7787</th>\n",
       "      <td>Kawalerka z widokiem przy ulicy Ofiar Oświęcimia</td>\n",
       "      <td>1 700 zł</td>\n",
       "      <td>19 m²</td>\n",
       "      <td>Szczecin, Centrum - Odświeżono Dzisiaj o 11:39</td>\n",
       "      <td>Na wynajem słoneczne kawalerka niedaleko Manha...</td>\n",
       "      <td>PrywatneZwierzęta: TakWinda: TakPoziom: 6Umebl...</td>\n",
       "      <td>https://www.olx.pl/oferta/kawalerka-z-widokiem...</td>\n",
       "    </tr>\n",
       "    <tr>\n",
       "      <th>7685</th>\n",
       "      <td>Kawalerka z balkonem i ogródkiem Gdańsk od maja</td>\n",
       "      <td>2 100 zł</td>\n",
       "      <td>32 m²</td>\n",
       "      <td>Gdańsk, Jasień - 13 marca 2025</td>\n",
       "      <td>Wynajmę kawalerkę w dogodnej lokalizacji. Mies...</td>\n",
       "      <td>PrywatneParking: identyfikator do strefy płatn...</td>\n",
       "      <td>https://www.olx.pl/oferta/kawalerka-z-balkonem...</td>\n",
       "    </tr>\n",
       "    <tr>\n",
       "      <th>3412</th>\n",
       "      <td>Nowe 2-pok. 53m2 wysoki standard, bezpośrednio!</td>\n",
       "      <td>3 300 zł</td>\n",
       "      <td>53 m²</td>\n",
       "      <td>Wrocław, Śródmieście - 12 marca 2025</td>\n",
       "      <td>brak opisu otodom</td>\n",
       "      <td>brak opisu otodom</td>\n",
       "      <td>https://www.otodom.pl/pl/oferta/nowe-2-pok-53m...</td>\n",
       "    </tr>\n",
       "    <tr>\n",
       "      <th>7785</th>\n",
       "      <td>POMORZANY. 2 pokoje z osobną kuchnią.</td>\n",
       "      <td>2 400 zł</td>\n",
       "      <td>52,82 m²</td>\n",
       "      <td>Szczecin, Pomorzany - 24 marca 2025</td>\n",
       "      <td>brak opisu otodom</td>\n",
       "      <td>brak opisu otodom</td>\n",
       "      <td>https://www.otodom.pl/pl/oferta/pomorzany-2-po...</td>\n",
       "    </tr>\n",
       "    <tr>\n",
       "      <th>727</th>\n",
       "      <td>Mieszkanie dwupokojowe do wynajęcia Kraków Ruczaj</td>\n",
       "      <td>2 500 zł</td>\n",
       "      <td>42 m²</td>\n",
       "      <td>Kraków, Dębniki - Odświeżono dnia 23 marca 2025</td>\n",
       "      <td>Mam do wynajęcia mieszkanie 2 pokojowe na Rucz...</td>\n",
       "      <td>PrywatneZwierzęta: NieWinda: TakParking: w gar...</td>\n",
       "      <td>https://www.olx.pl/d/oferta/mieszkanie-dwupoko...</td>\n",
       "    </tr>\n",
       "    <tr>\n",
       "      <th>2442</th>\n",
       "      <td>Duża kawalerka z sypialnią + balkon Mokotów Sł...</td>\n",
       "      <td>3 100 zł</td>\n",
       "      <td>33 m²</td>\n",
       "      <td>Warszawa, Mokotów - 23 marca 2025</td>\n",
       "      <td>brak opisu otodom</td>\n",
       "      <td>brak opisu otodom</td>\n",
       "      <td>https://www.otodom.pl/pl/oferta/duza-kawalerka...</td>\n",
       "    </tr>\n",
       "    <tr>\n",
       "      <th>8563</th>\n",
       "      <td>Ładna kawalerka od 1 Maja  w cichym centrum Sz...</td>\n",
       "      <td>1 600 zł</td>\n",
       "      <td>27 m²</td>\n",
       "      <td>Szczecin, Centrum - 25 lutego 2025</td>\n",
       "      <td>Ładna  kawalerka w cichym centrum Szczecina na...</td>\n",
       "      <td>PrywatneZwierzęta: NieWinda: NieParking: przyn...</td>\n",
       "      <td>https://www.olx.pl/d/oferta/ladna-kawalerka-od...</td>\n",
       "    </tr>\n",
       "    <tr>\n",
       "      <th>904</th>\n",
       "      <td>2 pokoje | Miesiąc GRATIS | Bez pośredników</td>\n",
       "      <td>2 890 zł</td>\n",
       "      <td>36,57 m²</td>\n",
       "      <td>Kraków, Podgórze - 11 marca 2025</td>\n",
       "      <td>brak opisu otodom</td>\n",
       "      <td>brak opisu otodom</td>\n",
       "      <td>https://www.otodom.pl/pl/oferta/2-pokoje-miesi...</td>\n",
       "    </tr>\n",
       "    <tr>\n",
       "      <th>1544</th>\n",
       "      <td>Zamknięte Osiedle| 2 Balkony|Blisko Metra Imielin</td>\n",
       "      <td>4 500 zł</td>\n",
       "      <td>67 m²</td>\n",
       "      <td>Warszawa, Ursynów - Odświeżono dnia 24 marca 2025</td>\n",
       "      <td>brak opisu otodom</td>\n",
       "      <td>brak opisu otodom</td>\n",
       "      <td>https://www.otodom.pl/pl/oferta/zamkniete-osie...</td>\n",
       "    </tr>\n",
       "  </tbody>\n",
       "</table>\n",
       "</div>"
      ],
      "text/plain": [
       "                                                  Title     Price      Area  \\\n",
       "2238  Wynajmę mieszkanie ul. Kłobucka 6e z komórką i MP  4 500 zł     57 m²   \n",
       "7787   Kawalerka z widokiem przy ulicy Ofiar Oświęcimia  1 700 zł     19 m²   \n",
       "7685    Kawalerka z balkonem i ogródkiem Gdańsk od maja  2 100 zł     32 m²   \n",
       "3412    Nowe 2-pok. 53m2 wysoki standard, bezpośrednio!  3 300 zł     53 m²   \n",
       "7785              POMORZANY. 2 pokoje z osobną kuchnią.  2 400 zł  52,82 m²   \n",
       "727   Mieszkanie dwupokojowe do wynajęcia Kraków Ruczaj  2 500 zł     42 m²   \n",
       "2442  Duża kawalerka z sypialnią + balkon Mokotów Sł...  3 100 zł     33 m²   \n",
       "8563  Ładna kawalerka od 1 Maja  w cichym centrum Sz...  1 600 zł     27 m²   \n",
       "904         2 pokoje | Miesiąc GRATIS | Bez pośredników  2 890 zł  36,57 m²   \n",
       "1544  Zamknięte Osiedle| 2 Balkony|Blisko Metra Imielin  4 500 zł     67 m²   \n",
       "\n",
       "                                                Address  \\\n",
       "2238                  Warszawa, Ursynów - 04 marca 2025   \n",
       "7787     Szczecin, Centrum - Odświeżono Dzisiaj o 11:39   \n",
       "7685                     Gdańsk, Jasień - 13 marca 2025   \n",
       "3412               Wrocław, Śródmieście - 12 marca 2025   \n",
       "7785                Szczecin, Pomorzany - 24 marca 2025   \n",
       "727     Kraków, Dębniki - Odświeżono dnia 23 marca 2025   \n",
       "2442                  Warszawa, Mokotów - 23 marca 2025   \n",
       "8563                 Szczecin, Centrum - 25 lutego 2025   \n",
       "904                    Kraków, Podgórze - 11 marca 2025   \n",
       "1544  Warszawa, Ursynów - Odświeżono dnia 24 marca 2025   \n",
       "\n",
       "                                            description  \\\n",
       "2238                                  brak opisu otodom   \n",
       "7787  Na wynajem słoneczne kawalerka niedaleko Manha...   \n",
       "7685  Wynajmę kawalerkę w dogodnej lokalizacji. Mies...   \n",
       "3412                                  brak opisu otodom   \n",
       "7785                                  brak opisu otodom   \n",
       "727   Mam do wynajęcia mieszkanie 2 pokojowe na Rucz...   \n",
       "2442                                  brak opisu otodom   \n",
       "8563  Ładna  kawalerka w cichym centrum Szczecina na...   \n",
       "904                                   brak opisu otodom   \n",
       "1544                                  brak opisu otodom   \n",
       "\n",
       "                                                  table  \\\n",
       "2238                                  brak opisu otodom   \n",
       "7787  PrywatneZwierzęta: TakWinda: TakPoziom: 6Umebl...   \n",
       "7685  PrywatneParking: identyfikator do strefy płatn...   \n",
       "3412                                  brak opisu otodom   \n",
       "7785                                  brak opisu otodom   \n",
       "727   PrywatneZwierzęta: NieWinda: TakParking: w gar...   \n",
       "2442                                  brak opisu otodom   \n",
       "8563  PrywatneZwierzęta: NieWinda: NieParking: przyn...   \n",
       "904                                   brak opisu otodom   \n",
       "1544                                  brak opisu otodom   \n",
       "\n",
       "                                                   Link  \n",
       "2238  https://www.otodom.pl/pl/oferta/wynajme-mieszk...  \n",
       "7787  https://www.olx.pl/oferta/kawalerka-z-widokiem...  \n",
       "7685  https://www.olx.pl/oferta/kawalerka-z-balkonem...  \n",
       "3412  https://www.otodom.pl/pl/oferta/nowe-2-pok-53m...  \n",
       "7785  https://www.otodom.pl/pl/oferta/pomorzany-2-po...  \n",
       "727   https://www.olx.pl/d/oferta/mieszkanie-dwupoko...  \n",
       "2442  https://www.otodom.pl/pl/oferta/duza-kawalerka...  \n",
       "8563  https://www.olx.pl/d/oferta/ladna-kawalerka-od...  \n",
       "904   https://www.otodom.pl/pl/oferta/2-pokoje-miesi...  \n",
       "1544  https://www.otodom.pl/pl/oferta/zamkniete-osie...  "
      ]
     },
     "execution_count": 5,
     "metadata": {},
     "output_type": "execute_result"
    }
   ],
   "source": [
    "connect_data.sample(10)"
   ]
  },
  {
   "cell_type": "code",
   "execution_count": 6,
   "id": "c57a7e1b-f41a-4104-8fa8-5dd0bd5533c4",
   "metadata": {},
   "outputs": [],
   "source": [
    "## sprawdzenie danych"
   ]
  },
  {
   "cell_type": "code",
   "execution_count": 7,
   "id": "99a5eba0-85fe-4c7a-aeb4-04fc1102192b",
   "metadata": {},
   "outputs": [
    {
     "name": "stdout",
     "output_type": "stream",
     "text": [
      "<class 'pandas.core.frame.DataFrame'>\n",
      "RangeIndex: 9717 entries, 0 to 9716\n",
      "Data columns (total 7 columns):\n",
      " #   Column       Non-Null Count  Dtype \n",
      "---  ------       --------------  ----- \n",
      " 0   Title        9717 non-null   object\n",
      " 1   Price        9717 non-null   object\n",
      " 2   Area         9717 non-null   object\n",
      " 3   Address      9717 non-null   object\n",
      " 4   description  9717 non-null   object\n",
      " 5   table        9717 non-null   object\n",
      " 6   Link         9717 non-null   object\n",
      "dtypes: object(7)\n",
      "memory usage: 531.5+ KB\n"
     ]
    }
   ],
   "source": [
    "connect_data.info()"
   ]
  },
  {
   "cell_type": "code",
   "execution_count": 8,
   "id": "35e871b8-5d35-475e-8683-02adf07634ce",
   "metadata": {},
   "outputs": [
    {
     "data": {
      "text/plain": [
       "Title          0\n",
       "Price          0\n",
       "Area           0\n",
       "Address        0\n",
       "description    0\n",
       "table          0\n",
       "Link           0\n",
       "dtype: int64"
      ]
     },
     "execution_count": 8,
     "metadata": {},
     "output_type": "execute_result"
    }
   ],
   "source": [
    "connect_data.isnull().sum()"
   ]
  },
  {
   "cell_type": "markdown",
   "id": "ecb83688-8f2e-4f46-948b-33b3bd4a1d4d",
   "metadata": {},
   "source": [
    "## Przetwarzanie danych"
   ]
  },
  {
   "cell_type": "markdown",
   "id": "a81c9b9d-8f9b-4ffb-96cd-b90cc13a0d0d",
   "metadata": {},
   "source": [
    "### Price"
   ]
  },
  {
   "cell_type": "code",
   "execution_count": 11,
   "id": "8b37803e-9d8b-430a-b440-cf37eeb4c5bd",
   "metadata": {},
   "outputs": [
    {
     "data": {
      "text/plain": [
       "str"
      ]
     },
     "execution_count": 11,
     "metadata": {},
     "output_type": "execute_result"
    }
   ],
   "source": [
    "type(connect_data['Price'][0])"
   ]
  },
  {
   "cell_type": "code",
   "execution_count": 12,
   "id": "d279e701-6fa1-4e6c-879d-98f8a3e92b88",
   "metadata": {},
   "outputs": [],
   "source": [
    "# usuwanie \"zł\" i tekstu, zamiana na float\n",
    "connect_data['Price'] = connect_data['Price'].str.replace(r'[^\\d]','',regex= True).astype(float)"
   ]
  },
  {
   "cell_type": "code",
   "execution_count": 13,
   "id": "1afb3022-23d6-4497-bbf1-f4ac33a0ecb8",
   "metadata": {},
   "outputs": [
    {
     "data": {
      "text/plain": [
       "numpy.float64"
      ]
     },
     "execution_count": 13,
     "metadata": {},
     "output_type": "execute_result"
    }
   ],
   "source": [
    "type(connect_data['Price'][0])"
   ]
  },
  {
   "cell_type": "code",
   "execution_count": 14,
   "id": "780b36c8-ba2f-4117-a660-b83801d56eff",
   "metadata": {},
   "outputs": [
    {
     "data": {
      "text/plain": [
       "count      9717.000000\n",
       "mean       3973.240403\n",
       "std       19980.389549\n",
       "min         180.000000\n",
       "25%        2000.000000\n",
       "50%        2500.000000\n",
       "75%        3000.000000\n",
       "max      528516.000000\n",
       "Name: Price, dtype: float64"
      ]
     },
     "execution_count": 14,
     "metadata": {},
     "output_type": "execute_result"
    }
   ],
   "source": [
    "connect_data['Price'].describe()"
   ]
  },
  {
   "cell_type": "code",
   "execution_count": 15,
   "id": "3d309b8c-0fc8-4b61-8960-57b3e797a587",
   "metadata": {},
   "outputs": [],
   "source": [
    "# usuniecie wartosci odstających\n",
    "connect_data = connect_data[connect_data['Price'] < 15000]"
   ]
  },
  {
   "cell_type": "markdown",
   "id": "8a8466cf-4e5b-4992-890e-232319548570",
   "metadata": {
    "jp-MarkdownHeadingCollapsed": true
   },
   "source": [
    "### Area"
   ]
  },
  {
   "cell_type": "code",
   "execution_count": 17,
   "id": "d5f58346-82c0-4df2-9e49-ff6ee969a874",
   "metadata": {},
   "outputs": [],
   "source": [
    "# usuwanie \"m²\" i przecinków, zamiana na float\n",
    "connect_data['Area'] =connect_data['Area'].str.replace(r',', '.').str.extract(r'([\\d\\.]+)').astype(float)"
   ]
  },
  {
   "cell_type": "code",
   "execution_count": 18,
   "id": "7fcdb4de-7302-4aaa-9a1b-ffddf4705489",
   "metadata": {},
   "outputs": [
    {
     "data": {
      "text/plain": [
       "count    9662.000000\n",
       "mean       42.676558\n",
       "std        17.880614\n",
       "min         1.000000\n",
       "25%        32.000000\n",
       "50%        40.000000\n",
       "75%        50.000000\n",
       "max       440.000000\n",
       "Name: Area, dtype: float64"
      ]
     },
     "execution_count": 18,
     "metadata": {},
     "output_type": "execute_result"
    }
   ],
   "source": [
    "connect_data['Area'].describe()"
   ]
  },
  {
   "cell_type": "code",
   "execution_count": 19,
   "id": "06515ff5-2573-490e-8afb-e834bddc10af",
   "metadata": {},
   "outputs": [],
   "source": [
    " # usuwam wartosc poniewaz jest to biuro \n",
    "connect_data = connect_data[connect_data['Area'] < 200]"
   ]
  },
  {
   "cell_type": "markdown",
   "id": "eacff482-5da4-4363-bc1d-250296228fb4",
   "metadata": {
    "jp-MarkdownHeadingCollapsed": true
   },
   "source": [
    "### Address\t"
   ]
  },
  {
   "cell_type": "code",
   "execution_count": 21,
   "id": "8c8cedbb-3d20-45db-a853-b300a251f0ff",
   "metadata": {},
   "outputs": [],
   "source": [
    "connect_data['city'] = connect_data['Address'].map(lambda x: x.split('-')[0].split(',')[0])\n",
    "connect_data['city'] = connect_data['city'].map(lambda x: x.strip().lower())"
   ]
  },
  {
   "cell_type": "code",
   "execution_count": 22,
   "id": "b6b4ae62-014a-422d-9e5f-cdde700cb88f",
   "metadata": {},
   "outputs": [
    {
     "data": {
      "text/plain": [
       "city\n",
       "warszawa                 1293\n",
       "kraków                   1292\n",
       "wrocław                  1288\n",
       "łódź                     1286\n",
       "poznań                   1280\n",
       "gdańsk                   1278\n",
       "szczecin                 1028\n",
       "bydgoszcz                 618\n",
       "tarnów                     63\n",
       "nowy sącz                  51\n",
       "bochnia                    26\n",
       "niepołomice                24\n",
       "brzesko                    23\n",
       "gorlice                    21\n",
       "toruń                      19\n",
       "mszana dolna               11\n",
       "gdów                        8\n",
       "sępólno krajeńskie          4\n",
       "wiśniowa                    4\n",
       "wieliczka                   3\n",
       "czarnochowice               3\n",
       "janowiec wielkopolski       2\n",
       "podłęże                     2\n",
       "dobczyce                    2\n",
       "stróżówka                   1\n",
       "papowo toruńskie            1\n",
       "ochmanów                    1\n",
       "grębocin                    1\n",
       "trąbki                      1\n",
       "bukowina tatrzańska         1\n",
       "łysokanie                   1\n",
       "białka tatrzańska           1\n",
       "kłaj                        1\n",
       "świecie nad osą             1\n",
       "jastrzębie                  1\n",
       "węglówka                    1\n",
       "tupadły                     1\n",
       "borek                       1\n",
       "mokrzyska                   1\n",
       "łapsze niżne                1\n",
       "drzycim                     1\n",
       "złotoria                    1\n",
       "łostówka                    1\n",
       "jasień                      1\n",
       "wojnicz                     1\n",
       "laskowice                   1\n",
       "płocicz                     1\n",
       "trzciana                    1\n",
       "brzezowa                    1\n",
       "Name: count, dtype: int64"
      ]
     },
     "execution_count": 22,
     "metadata": {},
     "output_type": "execute_result"
    }
   ],
   "source": [
    "connect_data['city'].value_counts()"
   ]
  },
  {
   "cell_type": "code",
   "execution_count": 23,
   "id": "7719ed35-f4b4-4de5-9c68-bfd62a25efee",
   "metadata": {},
   "outputs": [],
   "source": [
    "connect_data['district'] = connect_data['Address'].map(lambda x: x.split('-')[0])\n",
    "#connect_data['district'] = connect_data['district'].map(lambda x: x.strip().lower())"
   ]
  },
  {
   "cell_type": "code",
   "execution_count": 24,
   "id": "1d44f781-a1b3-4abd-a8ff-f0683ef1ee0e",
   "metadata": {},
   "outputs": [],
   "source": [
    "def point(x):\n",
    "    if ',' in x:\n",
    "        return x.split(',')[1].strip().lower()\n",
    "    else:\n",
    "        return x.lower()"
   ]
  },
  {
   "cell_type": "code",
   "execution_count": 25,
   "id": "f819da44-e5b1-40ca-bd04-67fac809ba31",
   "metadata": {},
   "outputs": [],
   "source": [
    "connect_data['district'] = connect_data['district'].map(lambda x: point(x))"
   ]
  },
  {
   "cell_type": "code",
   "execution_count": 26,
   "id": "4bb9c84b-c643-4cf7-9097-f9b9d3ad45e0",
   "metadata": {},
   "outputs": [
    {
     "data": {
      "text/html": [
       "<div>\n",
       "<style scoped>\n",
       "    .dataframe tbody tr th:only-of-type {\n",
       "        vertical-align: middle;\n",
       "    }\n",
       "\n",
       "    .dataframe tbody tr th {\n",
       "        vertical-align: top;\n",
       "    }\n",
       "\n",
       "    .dataframe thead th {\n",
       "        text-align: right;\n",
       "    }\n",
       "</style>\n",
       "<table border=\"1\" class=\"dataframe\">\n",
       "  <thead>\n",
       "    <tr style=\"text-align: right;\">\n",
       "      <th></th>\n",
       "      <th>Address</th>\n",
       "      <th>district</th>\n",
       "      <th>city</th>\n",
       "    </tr>\n",
       "  </thead>\n",
       "  <tbody>\n",
       "    <tr>\n",
       "      <th>7868</th>\n",
       "      <td>Szczecin, Centrum - 17 marca 2025</td>\n",
       "      <td>centrum</td>\n",
       "      <td>szczecin</td>\n",
       "    </tr>\n",
       "    <tr>\n",
       "      <th>4221</th>\n",
       "      <td>Łódź, Bałuty - 21 marca 2025</td>\n",
       "      <td>bałuty</td>\n",
       "      <td>łódź</td>\n",
       "    </tr>\n",
       "    <tr>\n",
       "      <th>1230</th>\n",
       "      <td>Kraków, Dębniki - 14 marca 2025</td>\n",
       "      <td>dębniki</td>\n",
       "      <td>kraków</td>\n",
       "    </tr>\n",
       "    <tr>\n",
       "      <th>213</th>\n",
       "      <td>Kraków, Krowodrza - Odświeżono dnia 17 marca 2025</td>\n",
       "      <td>krowodrza</td>\n",
       "      <td>kraków</td>\n",
       "    </tr>\n",
       "    <tr>\n",
       "      <th>1487</th>\n",
       "      <td>Warszawa, Białołęka - Odświeżono dnia 24 marca...</td>\n",
       "      <td>białołęka</td>\n",
       "      <td>warszawa</td>\n",
       "    </tr>\n",
       "    <tr>\n",
       "      <th>5843</th>\n",
       "      <td>Poznań, Stare Miasto - 24 marca 2025</td>\n",
       "      <td>stare miasto</td>\n",
       "      <td>poznań</td>\n",
       "    </tr>\n",
       "    <tr>\n",
       "      <th>7390</th>\n",
       "      <td>Gdańsk, Oliwa - 27 lutego 2025</td>\n",
       "      <td>oliwa</td>\n",
       "      <td>gdańsk</td>\n",
       "    </tr>\n",
       "    <tr>\n",
       "      <th>7884</th>\n",
       "      <td>Szczecin - 17 marca 2025</td>\n",
       "      <td>szczecin</td>\n",
       "      <td>szczecin</td>\n",
       "    </tr>\n",
       "    <tr>\n",
       "      <th>7882</th>\n",
       "      <td>Szczecin, Świerczewo - 23 marca 2025</td>\n",
       "      <td>świerczewo</td>\n",
       "      <td>szczecin</td>\n",
       "    </tr>\n",
       "    <tr>\n",
       "      <th>8929</th>\n",
       "      <td>Bydgoszcz - 22 marca 2025</td>\n",
       "      <td>bydgoszcz</td>\n",
       "      <td>bydgoszcz</td>\n",
       "    </tr>\n",
       "  </tbody>\n",
       "</table>\n",
       "</div>"
      ],
      "text/plain": [
       "                                                Address      district  \\\n",
       "7868                  Szczecin, Centrum - 17 marca 2025       centrum   \n",
       "4221                       Łódź, Bałuty - 21 marca 2025        bałuty   \n",
       "1230                    Kraków, Dębniki - 14 marca 2025       dębniki   \n",
       "213   Kraków, Krowodrza - Odświeżono dnia 17 marca 2025     krowodrza   \n",
       "1487  Warszawa, Białołęka - Odświeżono dnia 24 marca...     białołęka   \n",
       "5843               Poznań, Stare Miasto - 24 marca 2025  stare miasto   \n",
       "7390                     Gdańsk, Oliwa - 27 lutego 2025         oliwa   \n",
       "7884                           Szczecin - 17 marca 2025     szczecin    \n",
       "7882               Szczecin, Świerczewo - 23 marca 2025    świerczewo   \n",
       "8929                          Bydgoszcz - 22 marca 2025    bydgoszcz    \n",
       "\n",
       "           city  \n",
       "7868   szczecin  \n",
       "4221       łódź  \n",
       "1230     kraków  \n",
       "213      kraków  \n",
       "1487   warszawa  \n",
       "5843     poznań  \n",
       "7390     gdańsk  \n",
       "7884   szczecin  \n",
       "7882   szczecin  \n",
       "8929  bydgoszcz  "
      ]
     },
     "execution_count": 26,
     "metadata": {},
     "output_type": "execute_result"
    }
   ],
   "source": [
    "connect_data[['Address','district','city']].sample(10)"
   ]
  },
  {
   "cell_type": "code",
   "execution_count": 27,
   "id": "7a5bbb84-6885-4c7f-bba9-072750276241",
   "metadata": {},
   "outputs": [],
   "source": [
    "#krk['time_part'] = krk['Address'].map(lambda x: x.split('-')[1])"
   ]
  },
  {
   "cell_type": "markdown",
   "id": "2e8ba9bc-97ff-4716-96b9-de3f7bf11688",
   "metadata": {},
   "source": [
    "### table"
   ]
  },
  {
   "cell_type": "code",
   "execution_count": 29,
   "id": "a37abe07-be3b-4085-a3bb-92e289cf87ef",
   "metadata": {},
   "outputs": [],
   "source": [
    "# usuniecie rekordów ktre nie maja opisów\n",
    "connect_data = connect_data[connect_data['table'] !='brak opisu otodom']"
   ]
  },
  {
   "cell_type": "code",
   "execution_count": 30,
   "id": "fa90d450-4e04-4ebb-b706-1618b12b049f",
   "metadata": {},
   "outputs": [],
   "source": [
    "connect_data = connect_data[connect_data['table'] != 'brak danych']"
   ]
  },
  {
   "cell_type": "code",
   "execution_count": 31,
   "id": "04ec690e-c5d6-4681-b36b-7dbcc5b41890",
   "metadata": {},
   "outputs": [
    {
     "data": {
      "text/plain": [
       "(5162, 9)"
      ]
     },
     "execution_count": 31,
     "metadata": {},
     "output_type": "execute_result"
    }
   ],
   "source": [
    "connect_data.shape"
   ]
  },
  {
   "cell_type": "code",
   "execution_count": 32,
   "id": "67b9d17d-817e-4e40-a2fb-b500e9862fae",
   "metadata": {},
   "outputs": [],
   "source": [
    "connect_data['table_new'] = connect_data['table'].astype(str).str.findall(r'[A-Z][^A-Z]*').str.join(' ')\n"
   ]
  },
  {
   "cell_type": "code",
   "execution_count": 33,
   "id": "515a37d2-3ac2-47fa-b036-58806509855a",
   "metadata": {},
   "outputs": [],
   "source": [
    "connect_data['table_new'] = connect_data['table_new'].str.replace(r'\\s{2,}', ' ', regex=True)"
   ]
  },
  {
   "cell_type": "code",
   "execution_count": 34,
   "id": "6dee947d-5c27-45b2-9193-15b48e5e87f4",
   "metadata": {},
   "outputs": [
    {
     "data": {
      "text/plain": [
       "'Prywatne Zwierzęta: Nie Winda: Tak Parking: przynależne na ulicy Poziom: 1 Umeblowane: Tak Rodzaj zabudowy: Apartamentowiec Powierzchnia: 38 m² Liczba pokoi: 2 pokoje Czynsz (dodatkowo): 370 zł'"
      ]
     },
     "execution_count": 34,
     "metadata": {},
     "output_type": "execute_result"
    }
   ],
   "source": [
    "connect_data['table_new'][1]"
   ]
  },
  {
   "cell_type": "code",
   "execution_count": 35,
   "id": "8550a71a-91d8-4465-9cd2-5f8537965202",
   "metadata": {},
   "outputs": [],
   "source": [
    "connect_data['Prywatne'] = connect_data['table_new'].str.contains('Prywatne').astype(int)\n",
    "connect_data['Firmowe'] = connect_data['table_new'].str.contains('Firmowe').astype(int)\n",
    "connect_data['Zwierzęta'] = connect_data['table_new'].str.contains('Zwierzęta: Tak').astype(int)\n",
    "connect_data['Winda'] = connect_data['table_new'].str.contains('Winda: Tak').astype(int)\n",
    "connect_data['Umeblowane'] = connect_data['table_new'].str.contains('Umeblowane: Tak').astype(int)"
   ]
  },
  {
   "cell_type": "code",
   "execution_count": 77,
   "id": "3f82106c-8138-4109-82af-e1ae2351d95c",
   "metadata": {},
   "outputs": [],
   "source": [
    "def level(x):\n",
    "    x= x.lower()\n",
    "    before, sep, after = x.partition('poziom:')\n",
    "    if not sep:\n",
    "        return 'brak'\n",
    "    level = after.strip().lower() if sep else x.lower()\n",
    "    before, sep, after =level.partition('umeblowane:')\n",
    "    return before\n",
    "connect_data['Poziom']= connect_data['table_new'].map(lambda x: level(x))"
   ]
  },
  {
   "cell_type": "code",
   "execution_count": 93,
   "id": "49c7b25a-c368-4f4d-a239-5b47655bcd24",
   "metadata": {},
   "outputs": [],
   "source": [
    "def level(x):\n",
    "    x= x.lower()\n",
    "    before, sep, after = x.partition('poziom:')\n",
    "    if not sep:\n",
    "        return after\n",
    "    level = after.strip().lower() if sep else x.lower()\n",
    "    before, sep, after =level.partition('umeblowane:')\n",
    "    return before\n",
    "connect_data['Poziom']= connect_data['table_new'].map(lambda x: level(x))"
   ]
  },
  {
   "cell_type": "code",
   "execution_count": 95,
   "id": "094ca9f5-246b-49d1-8c73-9d0c5a16f2ca",
   "metadata": {
    "scrolled": true
   },
   "outputs": [
    {
     "data": {
      "text/plain": [
       "Poziom\n",
       "1              1132\n",
       "2               968\n",
       "parter          785\n",
       "3               769\n",
       "4               572\n",
       "5               214\n",
       "                204\n",
       "6               121\n",
       "7               102\n",
       "10               82\n",
       "9                81\n",
       "8                56\n",
       "powyżej 10       55\n",
       "suterena         16\n",
       "poddasze          5\n",
       "Name: count, dtype: int64"
      ]
     },
     "execution_count": 95,
     "metadata": {},
     "output_type": "execute_result"
    }
   ],
   "source": [
    "connect_data['Poziom'].value_counts()"
   ]
  },
  {
   "cell_type": "code",
   "execution_count": 38,
   "id": "3ea8c569-09be-4c99-be2a-ee1b1482eeeb",
   "metadata": {},
   "outputs": [],
   "source": [
    "def rooms(x):\n",
    "    x= x.lower()\n",
    "    before, sep, after = x.partition('liczba pokoi:')\n",
    "    if not sep:\n",
    "        return -1\n",
    "    rooms = after.strip().lower() if sep else x.lower()\n",
    "    before, sep, after =rooms.partition('czynsz')\n",
    "    return before.strip()\n",
    "connect_data['Pokoje']= connect_data['table_new'].map(lambda x: rooms(x))"
   ]
  },
  {
   "cell_type": "code",
   "execution_count": 39,
   "id": "df7b73cc-fe59-4304-b41e-eaa25c6a6b6a",
   "metadata": {},
   "outputs": [
    {
     "data": {
      "text/html": [
       "<div>\n",
       "<style scoped>\n",
       "    .dataframe tbody tr th:only-of-type {\n",
       "        vertical-align: middle;\n",
       "    }\n",
       "\n",
       "    .dataframe tbody tr th {\n",
       "        vertical-align: top;\n",
       "    }\n",
       "\n",
       "    .dataframe thead th {\n",
       "        text-align: right;\n",
       "    }\n",
       "</style>\n",
       "<table border=\"1\" class=\"dataframe\">\n",
       "  <thead>\n",
       "    <tr style=\"text-align: right;\">\n",
       "      <th></th>\n",
       "      <th>Title</th>\n",
       "      <th>Price</th>\n",
       "      <th>Area</th>\n",
       "      <th>Address</th>\n",
       "      <th>description</th>\n",
       "      <th>table</th>\n",
       "      <th>Link</th>\n",
       "      <th>city</th>\n",
       "      <th>district</th>\n",
       "      <th>table_new</th>\n",
       "      <th>Prywatne</th>\n",
       "      <th>Firmowe</th>\n",
       "      <th>Zwierzęta</th>\n",
       "      <th>Winda</th>\n",
       "      <th>Umeblowane</th>\n",
       "      <th>Poziom</th>\n",
       "      <th>Pokoje</th>\n",
       "    </tr>\n",
       "  </thead>\n",
       "  <tbody>\n",
       "    <tr>\n",
       "      <th>924</th>\n",
       "      <td>dwupoziomowe ul. zachodnia kraków ruczaj 77m2</td>\n",
       "      <td>3600.0</td>\n",
       "      <td>77.0</td>\n",
       "      <td>Kraków, Dębniki - 07 marca 2025</td>\n",
       "      <td>NOWOCZESNY, SŁONECZNY, PRAKTYCZNIE URZĄDZONY, ...</td>\n",
       "      <td>PrywatnePowierzchnia: 77 m²</td>\n",
       "      <td>https://www.olx.pl/d/oferta/dwupoziomowe-ul-za...</td>\n",
       "      <td>kraków</td>\n",
       "      <td>dębniki</td>\n",
       "      <td>Prywatne Powierzchnia: 77 m²</td>\n",
       "      <td>1</td>\n",
       "      <td>0</td>\n",
       "      <td>0</td>\n",
       "      <td>0</td>\n",
       "      <td>0</td>\n",
       "      <td>-1</td>\n",
       "      <td>-1</td>\n",
       "    </tr>\n",
       "  </tbody>\n",
       "</table>\n",
       "</div>"
      ],
      "text/plain": [
       "                                             Title   Price  Area  \\\n",
       "924  dwupoziomowe ul. zachodnia kraków ruczaj 77m2  3600.0  77.0   \n",
       "\n",
       "                             Address  \\\n",
       "924  Kraków, Dębniki - 07 marca 2025   \n",
       "\n",
       "                                           description  \\\n",
       "924  NOWOCZESNY, SŁONECZNY, PRAKTYCZNIE URZĄDZONY, ...   \n",
       "\n",
       "                           table  \\\n",
       "924  PrywatnePowierzchnia: 77 m²   \n",
       "\n",
       "                                                  Link    city district  \\\n",
       "924  https://www.olx.pl/d/oferta/dwupoziomowe-ul-za...  kraków  dębniki   \n",
       "\n",
       "                        table_new  Prywatne  Firmowe  Zwierzęta  Winda  \\\n",
       "924  Prywatne Powierzchnia: 77 m²         1        0          0      0   \n",
       "\n",
       "     Umeblowane Poziom Pokoje  \n",
       "924           0     -1     -1  "
      ]
     },
     "execution_count": 39,
     "metadata": {},
     "output_type": "execute_result"
    }
   ],
   "source": [
    "connect_data[connect_data['Pokoje'] ==-1]"
   ]
  },
  {
   "cell_type": "code",
   "execution_count": 40,
   "id": "a20d12d2-3857-4bc1-9ce8-96d80ec381e5",
   "metadata": {},
   "outputs": [],
   "source": [
    "connect_data = connect_data[connect_data['Pokoje'] != -1]"
   ]
  },
  {
   "cell_type": "code",
   "execution_count": 41,
   "id": "ac54ada9-665d-40cc-bc52-ad942f9e6966",
   "metadata": {},
   "outputs": [],
   "source": [
    "Rooms = {'2 pokoje': 2, 'kawalerka': 1, '3 pokoje': 3, '4 i więcej':4}\n",
    "connect_data['Rooms'] = connect_data['Pokoje'].map(Rooms)"
   ]
  },
  {
   "cell_type": "code",
   "execution_count": 42,
   "id": "cc0e31a7-f2d2-45ad-9350-f9b5c9060da0",
   "metadata": {},
   "outputs": [
    {
     "data": {
      "text/plain": [
       "Rooms\n",
       "2    2513\n",
       "1    1790\n",
       "3     747\n",
       "4     111\n",
       "Name: count, dtype: int64"
      ]
     },
     "execution_count": 42,
     "metadata": {},
     "output_type": "execute_result"
    }
   ],
   "source": [
    "connect_data['Rooms'].value_counts()"
   ]
  },
  {
   "cell_type": "code",
   "execution_count": 43,
   "id": "960a4407-a625-430b-9846-ada2c44a2fbf",
   "metadata": {},
   "outputs": [],
   "source": [
    "def rent_extra(x):\n",
    "    x= x.lower()\n",
    "    before, sep, after = x.partition('czynsz (dodatkowo): ')\n",
    "    if not sep:\n",
    "        return 0\n",
    "    return after\n",
    "connect_data['czynsz']= connect_data['table_new'].map(lambda x: rent_extra(x))\n",
    "connect_data['czynsz'] = connect_data['czynsz'].replace(r'[^\\d]','',regex= True).astype(float)"
   ]
  },
  {
   "cell_type": "code",
   "execution_count": 44,
   "id": "3c4176ba-2d1c-47a9-9c9c-9e04d02a109a",
   "metadata": {},
   "outputs": [
    {
     "data": {
      "text/plain": [
       "czynsz\n",
       "0.0       829\n",
       "600.0     404\n",
       "500.0     356\n",
       "400.0     222\n",
       "700.0     212\n",
       "         ... \n",
       "571.0       1\n",
       "714.0       1\n",
       "1010.0      1\n",
       "852.0       1\n",
       "165.0       1\n",
       "Name: count, Length: 366, dtype: int64"
      ]
     },
     "execution_count": 44,
     "metadata": {},
     "output_type": "execute_result"
    }
   ],
   "source": [
    "connect_data['czynsz'].value_counts()"
   ]
  },
  {
   "cell_type": "code",
   "execution_count": 45,
   "id": "9e0ef33f-bd7e-42a0-8586-4075401c0c9e",
   "metadata": {},
   "outputs": [],
   "source": [
    "def parking(x):\n",
    "    x= x.lower()\n",
    "    before, sep, after = x.partition('parking:')\n",
    "    if not sep:\n",
    "        return 'brak'\n",
    "    spot = after.strip().lower() if sep else x.lower()\n",
    "    before, sep, after =spot.partition('poziom:')\n",
    "    if not sep:\n",
    "        before, sep, after =spot.partition('umeblowane:')\n",
    "        return before\n",
    "    return before.strip()\n",
    "connect_data['Parking']= connect_data['table_new'].map(lambda x: parking(x))"
   ]
  },
  {
   "cell_type": "code",
   "execution_count": 46,
   "id": "74d66b9d-f7c3-49f0-bf56-f7efd10e5cce",
   "metadata": {},
   "outputs": [],
   "source": [
    "connect_data['Parking'] = connect_data['Parking'].apply(\n",
    "    lambda x: 'garaż' if isinstance(x, str) and ('garażu' in x.lower() or 'garazu' in x.lower()) else x\n",
    ")"
   ]
  },
  {
   "cell_type": "code",
   "execution_count": 47,
   "id": "c7e8e88f-de24-4a7a-b68c-7d877f24b906",
   "metadata": {},
   "outputs": [],
   "source": [
    "connect_data['Parking'] = connect_data['Parking'].apply(\n",
    "    lambda x: 'strzeżony' if isinstance(x, str) and ('strzeżony' in x.lower() or 'strzezony' in x.lower()) else x\n",
    ")"
   ]
  },
  {
   "cell_type": "code",
   "execution_count": 48,
   "id": "0b97b24c-77fe-4328-80c3-17bd692574fc",
   "metadata": {},
   "outputs": [],
   "source": [
    "connect_data['Parking'] = connect_data['Parking'].apply(\n",
    "    lambda x: 'ulica' if isinstance(x, str) and ('ulicy' in x.lower()) else x\n",
    ")"
   ]
  },
  {
   "cell_type": "code",
   "execution_count": 49,
   "id": "3117b438-5d95-4040-b648-8745b06fee64",
   "metadata": {},
   "outputs": [],
   "source": [
    "connect_data['Parking'] = connect_data['Parking'].apply(\n",
    "    lambda x: 'brak' if isinstance(x, str) and ('brak' in x.lower() or '0' in x.lower()) else x\n",
    ")"
   ]
  },
  {
   "cell_type": "code",
   "execution_count": 50,
   "id": "5b7a99ca-e1a0-4d4a-aafa-d07424cf1320",
   "metadata": {},
   "outputs": [
    {
     "data": {
      "text/plain": [
       "Parking\n",
       "brak                                            2416\n",
       "ulica                                           1269\n",
       "garaż                                           1051\n",
       "strzeżony                                        301\n",
       "identyfikator do strefy płatnego parkowania      117\n",
       "identyfikator do strefy płatnego parkowania        7\n",
       "Name: count, dtype: int64"
      ]
     },
     "execution_count": 50,
     "metadata": {},
     "output_type": "execute_result"
    }
   ],
   "source": [
    "connect_data['Parking'].value_counts()"
   ]
  },
  {
   "cell_type": "code",
   "execution_count": 51,
   "id": "726dd6bb-aa96-48ca-86f0-362bdca3bbfd",
   "metadata": {},
   "outputs": [],
   "source": [
    "def development (x):\n",
    "    x= x.lower()\n",
    "    before, sep, after = x.partition('rodzaj zabudowy:')\n",
    "    if not sep:\n",
    "        return -1\n",
    "    built = after.strip().lower() if sep else x.lower()\n",
    "    before, sep, after =built.partition('powierzchnia:')\n",
    "    return before\n",
    "connect_data['Zabudowa']= connect_data['table_new'].map(lambda x: development(x))"
   ]
  },
  {
   "cell_type": "code",
   "execution_count": 52,
   "id": "b967f783-7150-4505-8c8f-c563e9ece173",
   "metadata": {
    "scrolled": true
   },
   "outputs": [
    {
     "data": {
      "text/plain": [
       "Zabudowa\n",
       "blok                 2750\n",
       "apartamentowiec      1166\n",
       "kamienica             888\n",
       "dom wolnostojący      203\n",
       "szeregowiec            66\n",
       "pozostałe              66\n",
       "loft                   22\n",
       "Name: count, dtype: int64"
      ]
     },
     "execution_count": 52,
     "metadata": {},
     "output_type": "execute_result"
    }
   ],
   "source": [
    "connect_data['Zabudowa'].value_counts()"
   ]
  },
  {
   "cell_type": "code",
   "execution_count": 53,
   "id": "938412f4-5179-49b0-a080-98d0f079c450",
   "metadata": {},
   "outputs": [],
   "source": [
    "connect_data['Total_price'] = connect_data['Price'] + connect_data['czynsz']"
   ]
  },
  {
   "cell_type": "code",
   "execution_count": 54,
   "id": "804834df-4a92-420b-9b23-83c8e991a519",
   "metadata": {},
   "outputs": [
    {
     "data": {
      "text/html": [
       "<div>\n",
       "<style scoped>\n",
       "    .dataframe tbody tr th:only-of-type {\n",
       "        vertical-align: middle;\n",
       "    }\n",
       "\n",
       "    .dataframe tbody tr th {\n",
       "        vertical-align: top;\n",
       "    }\n",
       "\n",
       "    .dataframe thead th {\n",
       "        text-align: right;\n",
       "    }\n",
       "</style>\n",
       "<table border=\"1\" class=\"dataframe\">\n",
       "  <thead>\n",
       "    <tr style=\"text-align: right;\">\n",
       "      <th></th>\n",
       "      <th>Total_price</th>\n",
       "      <th>Price</th>\n",
       "      <th>czynsz</th>\n",
       "    </tr>\n",
       "  </thead>\n",
       "  <tbody>\n",
       "    <tr>\n",
       "      <th>0</th>\n",
       "      <td>3900.0</td>\n",
       "      <td>3250.0</td>\n",
       "      <td>650.0</td>\n",
       "    </tr>\n",
       "    <tr>\n",
       "      <th>1</th>\n",
       "      <td>3670.0</td>\n",
       "      <td>3300.0</td>\n",
       "      <td>370.0</td>\n",
       "    </tr>\n",
       "    <tr>\n",
       "      <th>2</th>\n",
       "      <td>3300.0</td>\n",
       "      <td>2800.0</td>\n",
       "      <td>500.0</td>\n",
       "    </tr>\n",
       "    <tr>\n",
       "      <th>3</th>\n",
       "      <td>2100.0</td>\n",
       "      <td>2100.0</td>\n",
       "      <td>0.0</td>\n",
       "    </tr>\n",
       "    <tr>\n",
       "      <th>4</th>\n",
       "      <td>2600.0</td>\n",
       "      <td>2300.0</td>\n",
       "      <td>300.0</td>\n",
       "    </tr>\n",
       "    <tr>\n",
       "      <th>...</th>\n",
       "      <td>...</td>\n",
       "      <td>...</td>\n",
       "      <td>...</td>\n",
       "    </tr>\n",
       "    <tr>\n",
       "      <th>9711</th>\n",
       "      <td>1600.0</td>\n",
       "      <td>1200.0</td>\n",
       "      <td>400.0</td>\n",
       "    </tr>\n",
       "    <tr>\n",
       "      <th>9713</th>\n",
       "      <td>2330.0</td>\n",
       "      <td>2000.0</td>\n",
       "      <td>330.0</td>\n",
       "    </tr>\n",
       "    <tr>\n",
       "      <th>9714</th>\n",
       "      <td>2900.0</td>\n",
       "      <td>2500.0</td>\n",
       "      <td>400.0</td>\n",
       "    </tr>\n",
       "    <tr>\n",
       "      <th>9715</th>\n",
       "      <td>3550.0</td>\n",
       "      <td>3100.0</td>\n",
       "      <td>450.0</td>\n",
       "    </tr>\n",
       "    <tr>\n",
       "      <th>9716</th>\n",
       "      <td>2900.0</td>\n",
       "      <td>2200.0</td>\n",
       "      <td>700.0</td>\n",
       "    </tr>\n",
       "  </tbody>\n",
       "</table>\n",
       "<p>5161 rows × 3 columns</p>\n",
       "</div>"
      ],
      "text/plain": [
       "      Total_price   Price  czynsz\n",
       "0          3900.0  3250.0   650.0\n",
       "1          3670.0  3300.0   370.0\n",
       "2          3300.0  2800.0   500.0\n",
       "3          2100.0  2100.0     0.0\n",
       "4          2600.0  2300.0   300.0\n",
       "...           ...     ...     ...\n",
       "9711       1600.0  1200.0   400.0\n",
       "9713       2330.0  2000.0   330.0\n",
       "9714       2900.0  2500.0   400.0\n",
       "9715       3550.0  3100.0   450.0\n",
       "9716       2900.0  2200.0   700.0\n",
       "\n",
       "[5161 rows x 3 columns]"
      ]
     },
     "execution_count": 54,
     "metadata": {},
     "output_type": "execute_result"
    }
   ],
   "source": [
    "connect_data[['Total_price','Price','czynsz']]"
   ]
  },
  {
   "cell_type": "markdown",
   "id": "331b8330-265a-44c3-97da-e51a8fb9a781",
   "metadata": {
    "jp-MarkdownHeadingCollapsed": true
   },
   "source": [
    "### description    "
   ]
  },
  {
   "cell_type": "code",
   "execution_count": 56,
   "id": "19c33692-7bd8-4a49-87a0-4e8153cb373b",
   "metadata": {},
   "outputs": [
    {
     "data": {
      "text/plain": [
       "'Do wynajęcia trzypokojowe mieszkanie o powierzchni 68,4 m2 przy ul. Bajecznej 2b.\\nPosiada dwa balkony, z wyjściem zarówno z sypialni jak i salonu.\\nMieszkanie po odświeżeniu, posiada podstawowe wyposażenie. \\n\\nLOKALIZACJA:\\nSklep spożywczy “Biedronka” - 100m\\nGaleria M1 - 15 min komunikacją miejską\\nGaleria Kazimierz - 20 min komunikacją miejską\\nRynek – 20 min komunikacją miejską\\nDworzec główny - 20 min komunikacją miejską\\n\\nKOMUNIKACJA:\\nPrzystanek tramwajowy: Ofiar Dąbia w odległości ok. 300m.\\nPrzystanek autobusowy: Ofiar Dąbia w odległości ok. 250m.\\n\\nMieszkanie składa się z:\\n\\n- dużego salonu z balkonem,\\n- gabinetu z szafą, biurkiem i krzesłem biurowym,\\n- dużej sypialni z wyjściem na balkon,\\n- osobnej kuchni z podstawowym wyposażeniem (Kuchenka mikrofalowa, płyta elektryczna, lodówka),\\n- Łazienki z pralką, umywalką, oraz kabiną prysznicową, \\n- osobnej toalety wraz z umywalką,\\n- Przestronnego korytarza.\\n\\nCENA:\\nMiesięczny czynsz najmu: 3250 zł\\nCzynsz administracyjny: 650 zł (wywóz nieczystości, utrzymanie części wspólnych budynku, fundusz remontowy)\\nMedia (prąd, woda): rozliczane według zużycia + 70 zł za internet światłowodowy \\n\\nUMOWA\\nMożliwość podpisania umowy zdalnie.\\n\\nMiesięczna kaucja zwrotna.\\nBez prowizji za wynajem.\\n\\nMIESZKANIE DOSTĘPNE OD ZARAZ\\nTEL: 51*****33'"
      ]
     },
     "execution_count": 56,
     "metadata": {},
     "output_type": "execute_result"
    }
   ],
   "source": [
    "krk['description'][0]"
   ]
  },
  {
   "cell_type": "code",
   "execution_count": 57,
   "id": "d6a27bab-a748-43c8-b68a-b2a8c329381a",
   "metadata": {},
   "outputs": [],
   "source": [
    "# Custom function to clean finance-related text\n",
    "def clean_text(text):\n",
    "    text = text.lower()  # Convert to lowercase\n",
    "    text = re.sub(r'\\d+', '[NUM]', text)  # Replace numbers with [NUM]\n",
    "    text = re.sub(r'\\$+', '[CURRENCY]', text)  # Replace currency symbols with a placeholder\n",
    "    return text"
   ]
  },
  {
   "cell_type": "code",
   "execution_count": 58,
   "id": "382f82b3-7ae5-4ff0-8578-c8878eb7e5c0",
   "metadata": {},
   "outputs": [],
   "source": [
    "krk['Clean_Description'] = krk['description'].apply(clean_text)"
   ]
  },
  {
   "cell_type": "code",
   "execution_count": 59,
   "id": "e755f3ea-b63e-46d5-94e2-db12376f15c5",
   "metadata": {},
   "outputs": [
    {
     "data": {
      "text/plain": [
       "'do wynajęcia trzypokojowe mieszkanie o powierzchni [NUM],[NUM] m[NUM] przy ul. bajecznej [NUM]b.\\nposiada dwa balkony, z wyjściem zarówno z sypialni jak i salonu.\\nmieszkanie po odświeżeniu, posiada podstawowe wyposażenie. \\n\\nlokalizacja:\\nsklep spożywczy “biedronka” - [NUM]m\\ngaleria m[NUM] - [NUM] min komunikacją miejską\\ngaleria kazimierz - [NUM] min komunikacją miejską\\nrynek – [NUM] min komunikacją miejską\\ndworzec główny - [NUM] min komunikacją miejską\\n\\nkomunikacja:\\nprzystanek tramwajowy: ofiar dąbia w odległości ok. [NUM]m.\\nprzystanek autobusowy: ofiar dąbia w odległości ok. [NUM]m.\\n\\nmieszkanie składa się z:\\n\\n- dużego salonu z balkonem,\\n- gabinetu z szafą, biurkiem i krzesłem biurowym,\\n- dużej sypialni z wyjściem na balkon,\\n- osobnej kuchni z podstawowym wyposażeniem (kuchenka mikrofalowa, płyta elektryczna, lodówka),\\n- łazienki z pralką, umywalką, oraz kabiną prysznicową, \\n- osobnej toalety wraz z umywalką,\\n- przestronnego korytarza.\\n\\ncena:\\nmiesięczny czynsz najmu: [NUM] zł\\nczynsz administracyjny: [NUM] zł (wywóz nieczystości, utrzymanie części wspólnych budynku, fundusz remontowy)\\nmedia (prąd, woda): rozliczane według zużycia + [NUM] zł za internet światłowodowy \\n\\numowa\\nmożliwość podpisania umowy zdalnie.\\n\\nmiesięczna kaucja zwrotna.\\nbez prowizji za wynajem.\\n\\nmieszkanie dostępne od zaraz\\ntel: [NUM]*****[NUM]'"
      ]
     },
     "execution_count": 59,
     "metadata": {},
     "output_type": "execute_result"
    }
   ],
   "source": [
    "krk['Clean_Description'][0]"
   ]
  },
  {
   "cell_type": "markdown",
   "id": "05111a4f-6b98-4bba-a19a-ebd94e9c1088",
   "metadata": {
    "jp-MarkdownHeadingCollapsed": true
   },
   "source": [
    "### title"
   ]
  },
  {
   "cell_type": "code",
   "execution_count": 61,
   "id": "395a979b-d191-47a1-b184-11b13e150bd7",
   "metadata": {},
   "outputs": [],
   "source": [
    "krk['Title_clear'] = krk['Title'].apply(clean_text)"
   ]
  },
  {
   "cell_type": "code",
   "execution_count": 62,
   "id": "66783f8f-0768-481b-a5b8-0cf3f4fd733b",
   "metadata": {},
   "outputs": [
    {
     "data": {
      "text/plain": [
       "0       mieszkanie [NUM]-pokojowe - ul. bajeczna [NUM]...\n",
       "1       nowe/klima/ [NUM]m[NUM]/[NUM] pokoje/ wysoki s...\n",
       "2       mieszkanie z klimatyzacją od zaraz | dąbska | ...\n",
       "3       nowoczesna kawalerka ul. monte cassino /[NUM]m...\n",
       "4                   studio pierwszy najem [NUM] zł ruczaj\n",
       "                              ...                        \n",
       "1291    [NUM] pokoje - parking - osobna kuchnia - wietora\n",
       "1292    [NUM] pokoje! - nowa [NUM] dzielnica ul. wrocł...\n",
       "1293    kawalerka [NUM] m[NUM] czyżyny sołtysowska osi...\n",
       "1294            dwupokojowe mieszkanie, dostępne od zaraz\n",
       "1295    [NUM]-pokojowe mieszkanie, [NUM]m[NUM], ul. ba...\n",
       "Name: Title_clear, Length: 1296, dtype: object"
      ]
     },
     "execution_count": 62,
     "metadata": {},
     "output_type": "execute_result"
    }
   ],
   "source": [
    "krk['Title_clear']"
   ]
  },
  {
   "cell_type": "markdown",
   "id": "7be62b08-6711-442c-8a46-4dc353f95eb9",
   "metadata": {},
   "source": [
    "### usuniecie kolumny zbednych kolumn"
   ]
  },
  {
   "cell_type": "code",
   "execution_count": 64,
   "id": "2db70516-7b84-4f7f-bd30-593322b60e34",
   "metadata": {},
   "outputs": [
    {
     "data": {
      "text/html": [
       "<div>\n",
       "<style scoped>\n",
       "    .dataframe tbody tr th:only-of-type {\n",
       "        vertical-align: middle;\n",
       "    }\n",
       "\n",
       "    .dataframe tbody tr th {\n",
       "        vertical-align: top;\n",
       "    }\n",
       "\n",
       "    .dataframe thead th {\n",
       "        text-align: right;\n",
       "    }\n",
       "</style>\n",
       "<table border=\"1\" class=\"dataframe\">\n",
       "  <thead>\n",
       "    <tr style=\"text-align: right;\">\n",
       "      <th></th>\n",
       "      <th>Title</th>\n",
       "      <th>Price</th>\n",
       "      <th>Area</th>\n",
       "      <th>Address</th>\n",
       "      <th>description</th>\n",
       "      <th>table</th>\n",
       "      <th>Link</th>\n",
       "      <th>city</th>\n",
       "      <th>district</th>\n",
       "      <th>table_new</th>\n",
       "      <th>...</th>\n",
       "      <th>Zwierzęta</th>\n",
       "      <th>Winda</th>\n",
       "      <th>Umeblowane</th>\n",
       "      <th>Poziom</th>\n",
       "      <th>Pokoje</th>\n",
       "      <th>Rooms</th>\n",
       "      <th>czynsz</th>\n",
       "      <th>Parking</th>\n",
       "      <th>Zabudowa</th>\n",
       "      <th>Total_price</th>\n",
       "    </tr>\n",
       "  </thead>\n",
       "  <tbody>\n",
       "    <tr>\n",
       "      <th>0</th>\n",
       "      <td>Mieszkanie 3-pokojowe - ul. Bajeczna 2B - Grze...</td>\n",
       "      <td>3250.0</td>\n",
       "      <td>68.4</td>\n",
       "      <td>Kraków, Grzegórzki - Odświeżono dnia 24 marca ...</td>\n",
       "      <td>Do wynajęcia trzypokojowe mieszkanie o powierz...</td>\n",
       "      <td>FirmoweZwierzęta: NieWinda: TakPoziom: 4Umeblo...</td>\n",
       "      <td>https://www.olx.pl/oferta/mieszkanie-3-pokojow...</td>\n",
       "      <td>kraków</td>\n",
       "      <td>grzegórzki</td>\n",
       "      <td>Firmowe Zwierzęta: Nie Winda: Tak Poziom: 4 Um...</td>\n",
       "      <td>...</td>\n",
       "      <td>0</td>\n",
       "      <td>1</td>\n",
       "      <td>1</td>\n",
       "      <td>4</td>\n",
       "      <td>3 pokoje</td>\n",
       "      <td>3</td>\n",
       "      <td>650.0</td>\n",
       "      <td>brak</td>\n",
       "      <td>blok</td>\n",
       "      <td>3900.0</td>\n",
       "    </tr>\n",
       "    <tr>\n",
       "      <th>1</th>\n",
       "      <td>NOWE/Klima/ 38m2/2 pokoje/ wysoki standard/mie...</td>\n",
       "      <td>3300.0</td>\n",
       "      <td>38.0</td>\n",
       "      <td>Kraków, Czyżyny - 23 marca 2025</td>\n",
       "      <td>MIESZKANIE:\\nDo wynajęcia nowocześnie urządzon...</td>\n",
       "      <td>PrywatneZwierzęta: NieWinda: TakParking: przyn...</td>\n",
       "      <td>https://www.olx.pl/oferta/nowe-klima-38m2-2-po...</td>\n",
       "      <td>kraków</td>\n",
       "      <td>czyżyny</td>\n",
       "      <td>Prywatne Zwierzęta: Nie Winda: Tak Parking: pr...</td>\n",
       "      <td>...</td>\n",
       "      <td>0</td>\n",
       "      <td>1</td>\n",
       "      <td>1</td>\n",
       "      <td>1</td>\n",
       "      <td>2 pokoje</td>\n",
       "      <td>2</td>\n",
       "      <td>370.0</td>\n",
       "      <td>ulica</td>\n",
       "      <td>apartamentowiec</td>\n",
       "      <td>3670.0</td>\n",
       "    </tr>\n",
       "    <tr>\n",
       "      <th>2</th>\n",
       "      <td>Mieszkanie z klimatyzacją od zaraz | Dąbska | ...</td>\n",
       "      <td>2800.0</td>\n",
       "      <td>40.0</td>\n",
       "      <td>Kraków, Grzegórzki - 24 marca 2025</td>\n",
       "      <td>ENG BELOW\\nPromo Estates przedstawia ofertę wy...</td>\n",
       "      <td>FirmoweZwierzęta: TakWinda: TakParking: w gara...</td>\n",
       "      <td>https://www.olx.pl/oferta/mieszkanie-z-klimaty...</td>\n",
       "      <td>kraków</td>\n",
       "      <td>grzegórzki</td>\n",
       "      <td>Firmowe Zwierzęta: Tak Winda: Tak Parking: w g...</td>\n",
       "      <td>...</td>\n",
       "      <td>1</td>\n",
       "      <td>1</td>\n",
       "      <td>1</td>\n",
       "      <td>2</td>\n",
       "      <td>2 pokoje</td>\n",
       "      <td>2</td>\n",
       "      <td>500.0</td>\n",
       "      <td>garaż</td>\n",
       "      <td>blok</td>\n",
       "      <td>3300.0</td>\n",
       "    </tr>\n",
       "    <tr>\n",
       "      <th>3</th>\n",
       "      <td>Nowoczesna kawalerka ul. Monte Cassino /100m o...</td>\n",
       "      <td>2100.0</td>\n",
       "      <td>20.0</td>\n",
       "      <td>Kraków, Stare Miasto - Odświeżono Dzisiaj o 10:10</td>\n",
       "      <td>English down below.\\n\\nPrezentuję na wynajem n...</td>\n",
       "      <td>PrywatneZwierzęta: NieWinda: NiePoziom: 1Umebl...</td>\n",
       "      <td>https://www.olx.pl/oferta/nowoczesna-kawalerka...</td>\n",
       "      <td>kraków</td>\n",
       "      <td>stare miasto</td>\n",
       "      <td>Prywatne Zwierzęta: Nie Winda: Nie Poziom: 1 U...</td>\n",
       "      <td>...</td>\n",
       "      <td>0</td>\n",
       "      <td>0</td>\n",
       "      <td>1</td>\n",
       "      <td>1</td>\n",
       "      <td>kawalerka</td>\n",
       "      <td>1</td>\n",
       "      <td>0.0</td>\n",
       "      <td>brak</td>\n",
       "      <td>kamienica</td>\n",
       "      <td>2100.0</td>\n",
       "    </tr>\n",
       "    <tr>\n",
       "      <th>4</th>\n",
       "      <td>Studio pierwszy najem 2300 zł Ruczaj</td>\n",
       "      <td>2300.0</td>\n",
       "      <td>22.0</td>\n",
       "      <td>Kraków, Dębniki - Odświeżono Dzisiaj o 10:19</td>\n",
       "      <td>Cena 2600 zł z czynszem + indywidualne opłaty ...</td>\n",
       "      <td>PrywatneZwierzęta: TakWinda: TakParking: przyn...</td>\n",
       "      <td>https://www.olx.pl/oferta/studio-pierwszy-naje...</td>\n",
       "      <td>kraków</td>\n",
       "      <td>dębniki</td>\n",
       "      <td>Prywatne Zwierzęta: Tak Winda: Tak Parking: pr...</td>\n",
       "      <td>...</td>\n",
       "      <td>1</td>\n",
       "      <td>1</td>\n",
       "      <td>1</td>\n",
       "      <td>4</td>\n",
       "      <td>kawalerka</td>\n",
       "      <td>1</td>\n",
       "      <td>300.0</td>\n",
       "      <td>ulica</td>\n",
       "      <td>blok</td>\n",
       "      <td>2600.0</td>\n",
       "    </tr>\n",
       "  </tbody>\n",
       "</table>\n",
       "<p>5 rows × 22 columns</p>\n",
       "</div>"
      ],
      "text/plain": [
       "                                               Title   Price  Area  \\\n",
       "0  Mieszkanie 3-pokojowe - ul. Bajeczna 2B - Grze...  3250.0  68.4   \n",
       "1  NOWE/Klima/ 38m2/2 pokoje/ wysoki standard/mie...  3300.0  38.0   \n",
       "2  Mieszkanie z klimatyzacją od zaraz | Dąbska | ...  2800.0  40.0   \n",
       "3  Nowoczesna kawalerka ul. Monte Cassino /100m o...  2100.0  20.0   \n",
       "4               Studio pierwszy najem 2300 zł Ruczaj  2300.0  22.0   \n",
       "\n",
       "                                             Address  \\\n",
       "0  Kraków, Grzegórzki - Odświeżono dnia 24 marca ...   \n",
       "1                    Kraków, Czyżyny - 23 marca 2025   \n",
       "2                 Kraków, Grzegórzki - 24 marca 2025   \n",
       "3  Kraków, Stare Miasto - Odświeżono Dzisiaj o 10:10   \n",
       "4       Kraków, Dębniki - Odświeżono Dzisiaj o 10:19   \n",
       "\n",
       "                                         description  \\\n",
       "0  Do wynajęcia trzypokojowe mieszkanie o powierz...   \n",
       "1  MIESZKANIE:\\nDo wynajęcia nowocześnie urządzon...   \n",
       "2  ENG BELOW\\nPromo Estates przedstawia ofertę wy...   \n",
       "3  English down below.\\n\\nPrezentuję na wynajem n...   \n",
       "4  Cena 2600 zł z czynszem + indywidualne opłaty ...   \n",
       "\n",
       "                                               table  \\\n",
       "0  FirmoweZwierzęta: NieWinda: TakPoziom: 4Umeblo...   \n",
       "1  PrywatneZwierzęta: NieWinda: TakParking: przyn...   \n",
       "2  FirmoweZwierzęta: TakWinda: TakParking: w gara...   \n",
       "3  PrywatneZwierzęta: NieWinda: NiePoziom: 1Umebl...   \n",
       "4  PrywatneZwierzęta: TakWinda: TakParking: przyn...   \n",
       "\n",
       "                                                Link    city      district  \\\n",
       "0  https://www.olx.pl/oferta/mieszkanie-3-pokojow...  kraków    grzegórzki   \n",
       "1  https://www.olx.pl/oferta/nowe-klima-38m2-2-po...  kraków       czyżyny   \n",
       "2  https://www.olx.pl/oferta/mieszkanie-z-klimaty...  kraków    grzegórzki   \n",
       "3  https://www.olx.pl/oferta/nowoczesna-kawalerka...  kraków  stare miasto   \n",
       "4  https://www.olx.pl/oferta/studio-pierwszy-naje...  kraków       dębniki   \n",
       "\n",
       "                                           table_new  ...  Zwierzęta  Winda  \\\n",
       "0  Firmowe Zwierzęta: Nie Winda: Tak Poziom: 4 Um...  ...          0      1   \n",
       "1  Prywatne Zwierzęta: Nie Winda: Tak Parking: pr...  ...          0      1   \n",
       "2  Firmowe Zwierzęta: Tak Winda: Tak Parking: w g...  ...          1      1   \n",
       "3  Prywatne Zwierzęta: Nie Winda: Nie Poziom: 1 U...  ...          0      0   \n",
       "4  Prywatne Zwierzęta: Tak Winda: Tak Parking: pr...  ...          1      1   \n",
       "\n",
       "   Umeblowane  Poziom     Pokoje Rooms czynsz  Parking          Zabudowa  \\\n",
       "0           1      4    3 pokoje     3  650.0     brak             blok    \n",
       "1           1      1    2 pokoje     2  370.0    ulica  apartamentowiec    \n",
       "2           1      2    2 pokoje     2  500.0    garaż             blok    \n",
       "3           1      1   kawalerka     1    0.0     brak        kamienica    \n",
       "4           1      4   kawalerka     1  300.0    ulica             blok    \n",
       "\n",
       "  Total_price  \n",
       "0      3900.0  \n",
       "1      3670.0  \n",
       "2      3300.0  \n",
       "3      2100.0  \n",
       "4      2600.0  \n",
       "\n",
       "[5 rows x 22 columns]"
      ]
     },
     "execution_count": 64,
     "metadata": {},
     "output_type": "execute_result"
    }
   ],
   "source": [
    "connect_data.head(5)"
   ]
  },
  {
   "cell_type": "code",
   "execution_count": 65,
   "id": "66ebc248-cc07-4ee0-850b-d4fd30bc7764",
   "metadata": {},
   "outputs": [],
   "source": [
    "# usuniecie kolumny \n",
    "connect_data.drop(columns=['Address','Link', 'Title','description','table','table_new','Price','czynsz','Pokoje'], axis=1, inplace= True)"
   ]
  },
  {
   "cell_type": "code",
   "execution_count": 66,
   "id": "06ca7464-fa6b-49fb-b240-2911e343af1e",
   "metadata": {},
   "outputs": [
    {
     "data": {
      "text/html": [
       "<div>\n",
       "<style scoped>\n",
       "    .dataframe tbody tr th:only-of-type {\n",
       "        vertical-align: middle;\n",
       "    }\n",
       "\n",
       "    .dataframe tbody tr th {\n",
       "        vertical-align: top;\n",
       "    }\n",
       "\n",
       "    .dataframe thead th {\n",
       "        text-align: right;\n",
       "    }\n",
       "</style>\n",
       "<table border=\"1\" class=\"dataframe\">\n",
       "  <thead>\n",
       "    <tr style=\"text-align: right;\">\n",
       "      <th></th>\n",
       "      <th>Area</th>\n",
       "      <th>city</th>\n",
       "      <th>district</th>\n",
       "      <th>Prywatne</th>\n",
       "      <th>Firmowe</th>\n",
       "      <th>Zwierzęta</th>\n",
       "      <th>Winda</th>\n",
       "      <th>Umeblowane</th>\n",
       "      <th>Poziom</th>\n",
       "      <th>Rooms</th>\n",
       "      <th>Parking</th>\n",
       "      <th>Zabudowa</th>\n",
       "      <th>Total_price</th>\n",
       "    </tr>\n",
       "  </thead>\n",
       "  <tbody>\n",
       "    <tr>\n",
       "      <th>0</th>\n",
       "      <td>68.4</td>\n",
       "      <td>kraków</td>\n",
       "      <td>grzegórzki</td>\n",
       "      <td>0</td>\n",
       "      <td>1</td>\n",
       "      <td>0</td>\n",
       "      <td>1</td>\n",
       "      <td>1</td>\n",
       "      <td>4</td>\n",
       "      <td>3</td>\n",
       "      <td>brak</td>\n",
       "      <td>blok</td>\n",
       "      <td>3900.0</td>\n",
       "    </tr>\n",
       "    <tr>\n",
       "      <th>1</th>\n",
       "      <td>38.0</td>\n",
       "      <td>kraków</td>\n",
       "      <td>czyżyny</td>\n",
       "      <td>1</td>\n",
       "      <td>0</td>\n",
       "      <td>0</td>\n",
       "      <td>1</td>\n",
       "      <td>1</td>\n",
       "      <td>1</td>\n",
       "      <td>2</td>\n",
       "      <td>ulica</td>\n",
       "      <td>apartamentowiec</td>\n",
       "      <td>3670.0</td>\n",
       "    </tr>\n",
       "    <tr>\n",
       "      <th>2</th>\n",
       "      <td>40.0</td>\n",
       "      <td>kraków</td>\n",
       "      <td>grzegórzki</td>\n",
       "      <td>0</td>\n",
       "      <td>1</td>\n",
       "      <td>1</td>\n",
       "      <td>1</td>\n",
       "      <td>1</td>\n",
       "      <td>2</td>\n",
       "      <td>2</td>\n",
       "      <td>garaż</td>\n",
       "      <td>blok</td>\n",
       "      <td>3300.0</td>\n",
       "    </tr>\n",
       "    <tr>\n",
       "      <th>3</th>\n",
       "      <td>20.0</td>\n",
       "      <td>kraków</td>\n",
       "      <td>stare miasto</td>\n",
       "      <td>1</td>\n",
       "      <td>0</td>\n",
       "      <td>0</td>\n",
       "      <td>0</td>\n",
       "      <td>1</td>\n",
       "      <td>1</td>\n",
       "      <td>1</td>\n",
       "      <td>brak</td>\n",
       "      <td>kamienica</td>\n",
       "      <td>2100.0</td>\n",
       "    </tr>\n",
       "    <tr>\n",
       "      <th>4</th>\n",
       "      <td>22.0</td>\n",
       "      <td>kraków</td>\n",
       "      <td>dębniki</td>\n",
       "      <td>1</td>\n",
       "      <td>0</td>\n",
       "      <td>1</td>\n",
       "      <td>1</td>\n",
       "      <td>1</td>\n",
       "      <td>4</td>\n",
       "      <td>1</td>\n",
       "      <td>ulica</td>\n",
       "      <td>blok</td>\n",
       "      <td>2600.0</td>\n",
       "    </tr>\n",
       "    <tr>\n",
       "      <th>...</th>\n",
       "      <td>...</td>\n",
       "      <td>...</td>\n",
       "      <td>...</td>\n",
       "      <td>...</td>\n",
       "      <td>...</td>\n",
       "      <td>...</td>\n",
       "      <td>...</td>\n",
       "      <td>...</td>\n",
       "      <td>...</td>\n",
       "      <td>...</td>\n",
       "      <td>...</td>\n",
       "      <td>...</td>\n",
       "      <td>...</td>\n",
       "    </tr>\n",
       "    <tr>\n",
       "      <th>9711</th>\n",
       "      <td>20.0</td>\n",
       "      <td>wieliczka</td>\n",
       "      <td>wieliczka</td>\n",
       "      <td>1</td>\n",
       "      <td>0</td>\n",
       "      <td>0</td>\n",
       "      <td>0</td>\n",
       "      <td>1</td>\n",
       "      <td>1</td>\n",
       "      <td>1</td>\n",
       "      <td>strzeżony</td>\n",
       "      <td>dom wolnostojący</td>\n",
       "      <td>1600.0</td>\n",
       "    </tr>\n",
       "    <tr>\n",
       "      <th>9713</th>\n",
       "      <td>25.0</td>\n",
       "      <td>czarnochowice</td>\n",
       "      <td>czarnochowice</td>\n",
       "      <td>1</td>\n",
       "      <td>0</td>\n",
       "      <td>0</td>\n",
       "      <td>1</td>\n",
       "      <td>1</td>\n",
       "      <td>1</td>\n",
       "      <td>1</td>\n",
       "      <td>garaż</td>\n",
       "      <td>apartamentowiec</td>\n",
       "      <td>2330.0</td>\n",
       "    </tr>\n",
       "    <tr>\n",
       "      <th>9714</th>\n",
       "      <td>27.0</td>\n",
       "      <td>czarnochowice</td>\n",
       "      <td>czarnochowice</td>\n",
       "      <td>1</td>\n",
       "      <td>0</td>\n",
       "      <td>1</td>\n",
       "      <td>1</td>\n",
       "      <td>1</td>\n",
       "      <td>4</td>\n",
       "      <td>1</td>\n",
       "      <td>garaż</td>\n",
       "      <td>blok</td>\n",
       "      <td>2900.0</td>\n",
       "    </tr>\n",
       "    <tr>\n",
       "      <th>9715</th>\n",
       "      <td>61.0</td>\n",
       "      <td>czarnochowice</td>\n",
       "      <td>czarnochowice</td>\n",
       "      <td>0</td>\n",
       "      <td>1</td>\n",
       "      <td>0</td>\n",
       "      <td>1</td>\n",
       "      <td>1</td>\n",
       "      <td>1</td>\n",
       "      <td>4</td>\n",
       "      <td>garaż</td>\n",
       "      <td>blok</td>\n",
       "      <td>3550.0</td>\n",
       "    </tr>\n",
       "    <tr>\n",
       "      <th>9716</th>\n",
       "      <td>38.0</td>\n",
       "      <td>kraków</td>\n",
       "      <td>bieżanów</td>\n",
       "      <td>1</td>\n",
       "      <td>0</td>\n",
       "      <td>0</td>\n",
       "      <td>1</td>\n",
       "      <td>1</td>\n",
       "      <td>powyżej 10</td>\n",
       "      <td>3</td>\n",
       "      <td>ulica</td>\n",
       "      <td>blok</td>\n",
       "      <td>2900.0</td>\n",
       "    </tr>\n",
       "  </tbody>\n",
       "</table>\n",
       "<p>5161 rows × 13 columns</p>\n",
       "</div>"
      ],
      "text/plain": [
       "      Area           city        district  Prywatne  Firmowe  Zwierzęta  \\\n",
       "0     68.4         kraków      grzegórzki         0        1          0   \n",
       "1     38.0         kraków         czyżyny         1        0          0   \n",
       "2     40.0         kraków      grzegórzki         0        1          1   \n",
       "3     20.0         kraków    stare miasto         1        0          0   \n",
       "4     22.0         kraków         dębniki         1        0          1   \n",
       "...    ...            ...             ...       ...      ...        ...   \n",
       "9711  20.0      wieliczka      wieliczka          1        0          0   \n",
       "9713  25.0  czarnochowice  czarnochowice          1        0          0   \n",
       "9714  27.0  czarnochowice  czarnochowice          1        0          1   \n",
       "9715  61.0  czarnochowice  czarnochowice          0        1          0   \n",
       "9716  38.0         kraków        bieżanów         1        0          0   \n",
       "\n",
       "      Winda  Umeblowane       Poziom  Rooms    Parking           Zabudowa  \\\n",
       "0         1           1           4       3       brak              blok    \n",
       "1         1           1           1       2      ulica   apartamentowiec    \n",
       "2         1           1           2       2      garaż              blok    \n",
       "3         0           1           1       1       brak         kamienica    \n",
       "4         1           1           4       1      ulica              blok    \n",
       "...     ...         ...          ...    ...        ...                ...   \n",
       "9711      0           1           1       1  strzeżony  dom wolnostojący    \n",
       "9713      1           1           1       1      garaż   apartamentowiec    \n",
       "9714      1           1           4       1      garaż              blok    \n",
       "9715      1           1           1       4      garaż              blok    \n",
       "9716      1           1  powyżej 10       3      ulica              blok    \n",
       "\n",
       "      Total_price  \n",
       "0          3900.0  \n",
       "1          3670.0  \n",
       "2          3300.0  \n",
       "3          2100.0  \n",
       "4          2600.0  \n",
       "...           ...  \n",
       "9711       1600.0  \n",
       "9713       2330.0  \n",
       "9714       2900.0  \n",
       "9715       3550.0  \n",
       "9716       2900.0  \n",
       "\n",
       "[5161 rows x 13 columns]"
      ]
     },
     "execution_count": 66,
     "metadata": {},
     "output_type": "execute_result"
    }
   ],
   "source": [
    "connect_data"
   ]
  },
  {
   "cell_type": "code",
   "execution_count": 125,
   "id": "6b406640-c835-49bd-a696-6d004d1630f1",
   "metadata": {},
   "outputs": [],
   "source": [
    "connect_data.to_csv('..\\data\\connect_data.csv')"
   ]
  },
  {
   "cell_type": "code",
   "execution_count": null,
   "id": "7e10c42e-385b-4c73-97a9-5e9f6a55986f",
   "metadata": {},
   "outputs": [],
   "source": []
  }
 ],
 "metadata": {
  "kernelspec": {
   "display_name": "Python [conda env:tensorflow-gpu]",
   "language": "python",
   "name": "conda-env-tensorflow-gpu-py"
  },
  "language_info": {
   "codemirror_mode": {
    "name": "ipython",
    "version": 3
   },
   "file_extension": ".py",
   "mimetype": "text/x-python",
   "name": "python",
   "nbconvert_exporter": "python",
   "pygments_lexer": "ipython3",
   "version": "3.9.15"
  }
 },
 "nbformat": 4,
 "nbformat_minor": 5
}
